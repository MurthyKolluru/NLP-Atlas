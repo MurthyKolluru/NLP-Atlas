{
 "cells": [
  {
   "cell_type": "markdown",
   "metadata": {},
   "source": [
    "# Word2Vec / GloVe Exploration\n",
    "\n",
    "This notebook loads pre-trained **GloVe 100d** vectors (converted to Word2Vec format) and runs a few classic vector operations.\n",
    "\n",
    "**Expected file:** `lecture1/word2vec/glove.6B.100d.kv`  \n",
    "If not found, run in a terminal:\n",
    "```\n",
    "python lecture1/word2vec/word2vec_download.py\n",
    "```\n",
    "\n",
    "**Notes**\n",
    "- The GloVe `glove.6B` vocabulary is **lowercased**, so use lowercase tokens (e.g., `king`, `father`, `mango`).\n",
    "- Library: `gensim` KeyedVectors."
   ]
  },
  {
   "cell_type": "code",
   "execution_count": 2,
   "id": "aa229f77",
   "metadata": {},
   "outputs": [
    {
     "name": "stdout",
     "output_type": "stream",
     "text": [
      "Current working dir: c:\\Users\\murth\\Desktop\\NLP\\Code-Base\\session01\\lecture1\\word2vec\n"
     ]
    }
   ],
   "source": [
    "import os\n",
    "print(\"Current working dir:\", os.getcwd())\n"
   ]
  },
  {
   "cell_type": "code",
   "execution_count": 3,
   "id": "089ef03a",
   "metadata": {},
   "outputs": [
    {
     "name": "stdout",
     "output_type": "stream",
     "text": [
      "['glove.6B.100d.kv']\n"
     ]
    }
   ],
   "source": [
    "from pathlib import Path\n",
    "print([p.name for p in Path('.').glob('*.kv')])\n"
   ]
  },
  {
   "cell_type": "code",
   "execution_count": 4,
   "metadata": {},
   "outputs": [
    {
     "name": "stdout",
     "output_type": "stream",
     "text": [
      "Loaded: C:\\Users\\murth\\Desktop\\NLP\\Code-Base\\session01\\lecture1\\word2vec\\glove.6B.100d.kv\n",
      "Vocab size: 400000 Vector size: 100\n"
     ]
    }
   ],
   "source": [
    "from pathlib import Path\n",
    "from gensim.models import KeyedVectors\n",
    "\n",
    "KV_PATH = Path(\"glove.6B.100d.kv\")  # because you're already in ...\\lecture1\\word2vec\n",
    "if not KV_PATH.exists():\n",
    "    raise FileNotFoundError(f\"Not found: {KV_PATH.resolve()}\")\n",
    "\n",
    "wv = KeyedVectors.load(str(KV_PATH), mmap=\"r\")\n",
    "print(\"Loaded:\", KV_PATH.resolve())\n",
    "print(\"Vocab size:\", len(wv.index_to_key), \"Vector size:\", wv.vector_size)\n"
   ]
  },
  {
   "cell_type": "code",
   "execution_count": 5,
   "metadata": {},
   "outputs": [
    {
     "name": "stdout",
     "output_type": "stream",
     "text": [
      "Vector for 'king' (len=100). First 10 dims:\n",
      "[-0.32307 -0.87616  0.21977  0.25268  0.22976  0.7388  -0.37954 -0.35307\n",
      " -0.84369 -1.1113 ]\n"
     ]
    }
   ],
   "source": [
    "# Print the vector of a word (\"king\")\n",
    "word = \"king\"\n",
    "if word in wv:\n",
    "    vec = wv[word]\n",
    "    print(f\"Vector for '{word}' (len={len(vec)}). First 10 dims:\\n{vec[:10]}\")\n",
    "else:\n",
    "    print(f\"'{word}' not in vocabulary.\")"
   ]
  },
  {
   "cell_type": "code",
   "execution_count": 9,
   "metadata": {},
   "outputs": [
    {
     "name": "stdout",
     "output_type": "stream",
     "text": [
      "Most similar to 'father':\n",
      "            son  0.9240\n",
      "        brother  0.9225\n",
      "    grandfather  0.8828\n",
      "         mother  0.8657\n",
      "          uncle  0.8647\n",
      "           wife  0.8441\n",
      "        husband  0.8431\n",
      "       daughter  0.8397\n",
      "         friend  0.8364\n",
      "         cousin  0.8158\n"
     ]
    }
   ],
   "source": [
    "# Similar words to \"father\"\n",
    "query = \"father\"\n",
    "if query in wv:\n",
    "    print(f\"Most similar to '{query}':\")\n",
    "    for w, score in wv.most_similar(query, topn=10):\n",
    "        print(f\"{w:>15s}  {score:.4f}\")\n",
    "else:\n",
    "    print(f\"'{query}' not in vocabulary.\")"
   ]
  },
  {
   "cell_type": "code",
   "execution_count": 10,
   "metadata": {},
   "outputs": [
    {
     "name": "stdout",
     "output_type": "stream",
     "text": [
      "Input words: ['mango', 'orange', 'apple', 'computer']\n",
      "In vocab   : ['mango', 'orange', 'apple', 'computer']\n",
      "Odd one out: computer\n"
     ]
    }
   ],
   "source": [
    "# Odd one out among [mango, orange, apple, computer]\n",
    "words = [\"mango\", \"orange\", \"apple\", \"computer\"]\n",
    "present = [w for w in words if w in wv]\n",
    "print(\"Input words:\", words)\n",
    "print(\"In vocab   :\", present)\n",
    "\n",
    "if len(present) >= 2:\n",
    "    try:\n",
    "        odd = wv.doesnt_match(present)\n",
    "        print(\"Odd one out:\", odd)\n",
    "    except Exception as e:\n",
    "        print(\"Could not compute odd-one-out:\", e)\n",
    "else:\n",
    "    print(\"Not enough words found in vocab.\")"
   ]
  },
  {
   "cell_type": "code",
   "execution_count": 11,
   "metadata": {},
   "outputs": [
    {
     "name": "stdout",
     "output_type": "stream",
     "text": [
      "Analogy: uncle - man + woman ≈ ?\n",
      "           aunt  0.8368\n",
      "       daughter  0.8227\n",
      "          niece  0.8221\n",
      "    grandmother  0.8220\n",
      "         mother  0.8079\n",
      "           wife  0.7898\n",
      "         cousin  0.7828\n",
      "  granddaughter  0.7686\n",
      "         father  0.7636\n",
      "        husband  0.7516\n"
     ]
    }
   ],
   "source": [
    "# Analogy: uncle - man + woman ≈ ?\n",
    "pos = [\"uncle\", \"woman\"]\n",
    "neg = [\"man\"]\n",
    "\n",
    "tokens = pos + neg\n",
    "missing = [t for t in tokens if t not in wv]\n",
    "if missing:\n",
    "    print(\"Missing tokens in vocab:\", missing)\n",
    "else:\n",
    "    print(\"Analogy: uncle - man + woman ≈ ?\")\n",
    "    for w, score in wv.most_similar(positive=pos, negative=neg, topn=10):\n",
    "        print(f\"{w:>15s}  {score:.4f}\")"
   ]
  }
 ],
 "metadata": {
  "kernelspec": {
   "display_name": ".venv",
   "language": "python",
   "name": "python3"
  },
  "language_info": {
   "codemirror_mode": {
    "name": "ipython",
    "version": 3
   },
   "file_extension": ".py",
   "mimetype": "text/x-python",
   "name": "python",
   "nbconvert_exporter": "python",
   "pygments_lexer": "ipython3",
   "version": "3.10.11"
  }
 },
 "nbformat": 4,
 "nbformat_minor": 5
}
