{
 "cells": [
  {
   "cell_type": "markdown",
   "id": "8ceface9",
   "metadata": {},
   "source": [
    "# 00 — Explore: Data, Preprocessing, and TF-IDF Features\n",
    "\n",
    "This notebook shows:\n",
    "- Peek at the dataset & class distribution\n",
    "- Run preprocessing on a sample\n",
    "- Build TF-IDF features\n",
    "- Show **top chi² terms per class** (most indicative features)\n",
    "- (Optional) Evaluate a trained model"
   ]
  },
  {
   "cell_type": "code",
   "execution_count": 3,
   "id": "e08bdb3f",
   "metadata": {},
   "outputs": [
    {
     "name": "stdout",
     "output_type": "stream",
     "text": [
      "cwd: C:\\Users\\murth\\Desktop\\NLP\\Code-Base\\session01\\lecture2\\bowClassification\n",
      "has src: True has __init__: False\n",
      "sample files: True True\n",
      "✅ imports ok\n"
     ]
    }
   ],
   "source": [
    "# --- Make 'src' importable and fix relative paths ---\n",
    "import os, sys\n",
    "from pathlib import Path\n",
    "\n",
    "PROJECT_ROOT = Path(r\"C:\\Users\\murth\\Desktop\\NLP\\Code-Base\\session01\\lecture2\\bowClassification\")\n",
    "\n",
    "# 1) Put project root on sys.path so `import src...` works\n",
    "if str(PROJECT_ROOT) not in sys.path:\n",
    "    sys.path.insert(0, str(PROJECT_ROOT))\n",
    "\n",
    "# 2) (Optional but recommended) chdir to project root so configs/data relative paths work\n",
    "os.chdir(PROJECT_ROOT)\n",
    "\n",
    "# 3) Quick sanity checks\n",
    "print(\"cwd:\", os.getcwd())\n",
    "print(\"has src:\", (PROJECT_ROOT / \"src\").exists(), \"has __init__:\", (PROJECT_ROOT / \"src\" / \"__init__.py\").exists())\n",
    "print(\"sample files:\",\n",
    "      (PROJECT_ROOT / \"configs\" / \"config.yaml\").exists(),\n",
    "      (PROJECT_ROOT / \"data\" / \"raw\" / \"20news.jsonl\").exists())\n",
    "\n",
    "# 4) Try the imports immediately\n",
    "try:\n",
    "    from src.utils import load_config, load_raw, load_target_names\n",
    "    from src.preprocess import Preprocessor\n",
    "    print(\"✅ imports ok\")\n",
    "except Exception as e:\n",
    "    print(\"❌ import error:\", repr(e))\n"
   ]
  },
  {
   "cell_type": "code",
   "execution_count": 4,
   "id": "d6d44f45",
   "metadata": {},
   "outputs": [
    {
     "name": "stdout",
     "output_type": "stream",
     "text": [
      "(3725, 2) ['comp.graphics', 'rec.autos', 'sci.space', 'talk.politics.misc']\n"
     ]
    }
   ],
   "source": [
    "# Setup\n",
    "import pandas as pd\n",
    "import numpy as np\n",
    "import matplotlib.pyplot as plt\n",
    "\n",
    "from sklearn.model_selection import train_test_split\n",
    "from sklearn.feature_extraction.text import TfidfVectorizer\n",
    "from sklearn.feature_selection import chi2\n",
    "import joblib\n",
    "\n",
    "from src.utils import load_config, load_raw, load_target_names\n",
    "from src.preprocess import Preprocessor\n",
    "\n",
    "cfg = load_config(\"configs/config.yaml\")\n",
    "df = load_raw(\"data/raw/20news.jsonl\")\n",
    "target_names = load_target_names(\"data/raw/target_names.json\")\n",
    "print(df.shape, target_names)"
   ]
  },
  {
   "cell_type": "code",
   "execution_count": 5,
   "id": "15d5e668",
   "metadata": {},
   "outputs": [
    {
     "data": {
      "image/png": "[encoded data removed]",
      "text/plain": [
       "<Figure size 640x480 with 1 Axes>"
      ]
     },
     "metadata": {},
     "output_type": "display_data"
    }
   ],
   "source": [
    "# Class distribution\n",
    "df['target_name'] = df['target'].map(lambda i: target_names[i])\n",
    "ax = df['target_name'].value_counts().plot(kind='bar', rot=45)\n",
    "_ = plt.title('Class Distribution')\n",
    "plt.tight_layout()\n",
    "plt.show()"
   ]
  },
  {
   "cell_type": "code",
   "execution_count": 6,
   "id": "9df9f00b",
   "metadata": {},
   "outputs": [
    {
     "name": "stdout",
     "output_type": "stream",
     "text": [
      "RAW:\n",
      " Forwarded from Doug Griffith, Magellan Project Manager\n",
      "\n",
      "                        MAGELLAN STATUS REPORT\n",
      "                            April 16, 1993\n",
      "\n",
      "1.  The Magellan mission at Venus continues normally, gathering gravity\n",
      "data which provides measurement of density variations in the upper\n",
      "mantle which can be correlated to surface topography.  Spacecraft\n",
      "performance is nominal.\n",
      "\n",
      "2.  Magellan has completed 7225 orbits of Venus and is now 39 days from\n",
      "the end of Cycle-4 and the start of the Transition Experiment.\n",
      "\n",
      "3.  No significant activities are expected next week, as preparations\n",
      "for aerobraking c ...\n",
      "\n",
      "\n",
      "PREPROCESSED:\n",
      " forwarded doug griffith magellan project manager magellan status report april magellan mission venus continues normally gathering gravity data provides measurement density variation upper mantle correlated surface topography spacecraft performance nominal magellan completed orbit venus day end cycle start transition experiment no significant activity expected next week preparation aerobraking continue schedule ...\n"
     ]
    }
   ],
   "source": [
    "# Preprocessing demo\n",
    "pp = Preprocessor(cfg)\n",
    "ex = df.iloc[0]['text']\n",
    "print(\"RAW:\\n\", ex[:600], \"...\\n\")\n",
    "print(\"\\nPREPROCESSED:\\n\", pp(ex)[:600], \"...\")"
   ]
  },
  {
   "cell_type": "code",
   "execution_count": 7,
   "id": "b175b2e3",
   "metadata": {},
   "outputs": [
    {
     "name": "stderr",
     "output_type": "stream",
     "text": [
      "c:\\Users\\murth\\Desktop\\NLP\\Code-Base\\session01\\lecture2\\bowClassification\\.venv\\Lib\\site-packages\\sklearn\\feature_extraction\\text.py:517: UserWarning: The parameter 'token_pattern' will not be used since 'tokenizer' is not None'\n",
      "  warnings.warn(\n"
     ]
    },
    {
     "data": {
      "text/plain": [
       "(3725, 20000)"
      ]
     },
     "execution_count": 7,
     "metadata": {},
     "output_type": "execute_result"
    }
   ],
   "source": [
    "# Build TF-IDF features\n",
    "feats = cfg['features']\n",
    "vectorizer = TfidfVectorizer(\n",
    "    preprocessor=Preprocessor(cfg),\n",
    "    tokenizer=str.split,\n",
    "    ngram_range=tuple(feats['ngram_range']),\n",
    "    max_df=feats['max_df'],\n",
    "    min_df=feats['min_df'],\n",
    "    max_features=feats.get('max_features')\n",
    ")\n",
    "X = vectorizer.fit_transform(df['text'])\n",
    "y = df['target'].values\n",
    "X.shape"
   ]
  },
  {
   "cell_type": "code",
   "execution_count": 8,
   "id": "5be48d00",
   "metadata": {},
   "outputs": [
    {
     "name": "stdout",
     "output_type": "stream",
     "text": [
      "\n",
      "Top terms for class: comp.graphics\n",
      "file                      73.524\n",
      "graphic                   70.947\n",
      "image                     60.984\n",
      "format                    53.345\n",
      "x                         35.534\n",
      "color                     32.053\n",
      "card                      29.447\n",
      "hi                        23.683\n",
      "screen                    23.572\n",
      "computer                  23.237\n",
      "car                       23.007\n",
      "pc                        22.244\n",
      "polygon                   22.085\n",
      "tiff                      22.009\n",
      "thanks                    21.881\n",
      "library                   21.681\n",
      "bit                       21.457\n",
      "ftp                       20.947\n",
      "convert                   20.865\n",
      "animation                 20.788\n",
      "\n",
      "Top terms for class: rec.autos\n",
      "car                       166.366\n",
      "engine                    38.247\n",
      "dealer                    33.367\n",
      "ford                      30.632\n",
      "oil                       24.483\n",
      "tire                      20.610\n",
      "brake                     20.370\n",
      "v                         20.297\n",
      "toyota                    19.658\n",
      "mustang                   18.905\n",
      "honda                     18.378\n",
      "clutch                    18.008\n",
      "convertible               16.405\n",
      "wheel                     15.689\n",
      "rear                      15.612\n",
      "driving                   15.379\n",
      "diesel                    15.041\n",
      "price                     14.919\n",
      "gt                        14.647\n",
      "drive                     14.471\n",
      "\n",
      "Top terms for class: sci.space\n",
      "space                     79.857\n",
      "orbit                     40.452\n",
      "shuttle                   38.944\n",
      "launch                    38.262\n",
      "moon                      34.581\n",
      "nasa                      32.692\n",
      "satellite                 31.892\n",
      "mission                   31.860\n",
      "sky                       25.634\n",
      "spacecraft                23.719\n",
      "earth                     22.832\n",
      "solar                     22.286\n",
      "car                       21.959\n",
      "hst                       21.453\n",
      "lunar                     21.048\n",
      "rocket                    20.463\n",
      "flight                    18.731\n",
      "billboard                 13.659\n",
      "mar                       12.231\n",
      "orbital                   12.161\n",
      "\n",
      "Top terms for class: talk.politics.misc\n",
      "homosexual                51.805\n",
      "drug                      38.059\n",
      "gay                       37.983\n",
      "government                34.464\n",
      "men                       33.707\n",
      "clinton                   33.163\n",
      "president                 28.934\n",
      "child                     27.503\n",
      "people                    27.182\n",
      "law                       26.955\n",
      "batf                      26.485\n",
      "health                    25.864\n",
      "sexual                    24.781\n",
      "tax                       22.583\n",
      "sex                       21.182\n",
      "crime                     20.261\n",
      "clayton                   20.153\n",
      "libertarian               18.053\n",
      "state                     17.981\n",
      "fbi                       17.765\n"
     ]
    }
   ],
   "source": [
    "# Top chi² features per class\n",
    "def top_chi2_per_class(X, y, feature_names, class_index, topk=20):\n",
    "    mask = (y == class_index).astype(int)\n",
    "    chi2_scores, _ = chi2(X, mask)\n",
    "    idx = np.argsort(chi2_scores)[-topk:][::-1]\n",
    "    return [(feature_names[i], chi2_scores[i]) for i in idx]\n",
    "\n",
    "feature_names = np.array(vectorizer.get_feature_names_out())\n",
    "for i, name in enumerate(target_names):\n",
    "    top = top_chi2_per_class(X, y, feature_names, i, topk=20)\n",
    "    print(f\"\\nTop terms for class: {name}\")\n",
    "    for term, score in top:\n",
    "        print(f\"{term:25s} {score:.3f}\")"
   ]
  },
  {
   "cell_type": "code",
   "execution_count": 15,
   "id": "2f11a8de",
   "metadata": {},
   "outputs": [
    {
     "name": "stdout",
     "output_type": "stream",
     "text": [
      "Accuracy: 0.8201\n",
      "                    precision    recall  f1-score   support\n",
      "\n",
      "     comp.graphics       0.82      0.90      0.86       195\n",
      "         rec.autos       0.76      0.86      0.81       198\n",
      "         sci.space       0.88      0.73      0.80       197\n",
      "talk.politics.misc       0.84      0.79      0.81       155\n",
      "\n",
      "          accuracy                           0.82       745\n",
      "         macro avg       0.83      0.82      0.82       745\n",
      "      weighted avg       0.83      0.82      0.82       745\n",
      "\n"
     ]
    }
   ],
   "source": [
    "# (Optional) Evaluate trained model\n",
    "from sklearn.metrics import accuracy_score, classification_report\n",
    "import sys, os\n",
    "from pathlib import Path\n",
    "\n",
    "try:\n",
    "    # --- Ensure project root is on sys.path so `src.*` is importable ---\n",
    "    PROJECT_ROOT = Path(r\"C:\\Users\\murth\\Desktop\\NLP\\Code-Base\\session01\\lecture2\\bowClassification\")\n",
    "    if str(PROJECT_ROOT) not in sys.path:\n",
    "        sys.path.insert(0, str(PROJECT_ROOT))\n",
    "    os.chdir(PROJECT_ROOT)\n",
    "\n",
    "    # --- Create compatibility aliases so unpickling can import legacy names ---\n",
    "    import src.preprocess as _pre  # your current module\n",
    "    sys.modules['preprocess'] = _pre  # alias 'preprocess' -> src.preprocess\n",
    "\n",
    "    import src.utils as _utils\n",
    "    sys.modules['utils'] = _utils  # alias 'utils' -> src.utils (in case needed)\n",
    "\n",
    "    # --- Load trained model and evaluate ---\n",
    "    pipe = joblib.load(\"models/clf.joblib\")\n",
    "    X_tr, X_te, y_tr, y_te = train_test_split(\n",
    "        df['text'].tolist(),\n",
    "        y,\n",
    "        test_size=cfg['train']['test_size'],\n",
    "        random_state=cfg['train']['random_state'],\n",
    "        stratify=y\n",
    "    )\n",
    "    preds = pipe.predict(X_te)\n",
    "\n",
    "    print(\"Accuracy:\", round(accuracy_score(y_te, preds), 4))\n",
    "    print(classification_report(y_te, preds, target_names=target_names))\n",
    "\n",
    "except Exception as e:\n",
    "    print(\"Train the model first with python src/train.py. Error:\", e)\n"
   ]
  }
 ],
 "metadata": {
  "kernelspec": {
   "display_name": ".venv",
   "language": "python",
   "name": "python3"
  },
  "language_info": {
   "codemirror_mode": {
    "name": "ipython",
    "version": 3
   },
   "file_extension": ".py",
   "mimetype": "text/x-python",
   "name": "python",
   "nbconvert_exporter": "python",
   "pygments_lexer": "ipython3",
   "version": "3.13.5"
  }
 },
 "nbformat": 4,
 "nbformat_minor": 5
}
