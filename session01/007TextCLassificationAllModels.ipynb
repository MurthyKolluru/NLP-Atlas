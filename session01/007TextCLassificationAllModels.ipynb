{
 "cells": [
  {
   "cell_type": "code",
   "execution_count": null,
   "metadata": {
    "colab": {
     "base_uri": "https://localhost:8080/"
    },
    "executionInfo": {
     "elapsed": 9699,
     "status": "ok",
     "timestamp": 1755625256354,
     "user": {
      "displayName": "Dr. Dakshinamurthy V Kolluru",
      "userId": "15601723099574059066"
     },
     "user_tz": -330
    },
    "id": "Juez4MrMSkvG",
    "outputId": "73c0292f-6276-4b40-e2f9-e2edb001eb2e"
   },
   "outputs": [
    {
     "name": "stdout",
     "output_type": "stream",
     "text": [
      "Train: 25000, Test: 25000, Device: cuda\n"
     ]
    }
   ],
   "source": [
    "# @title 0) Setup: installs & imports\n",
    "!pip -q install datasets transformers fastai scikit-learn torchtext\n",
    "\n",
    "import os, random, math, numpy as np, torch, pandas as pd\n",
    "from datasets import load_dataset\n",
    "from sklearn.model_selection import train_test_split\n",
    "from sklearn.metrics import accuracy_score\n",
    "import matplotlib.pyplot as plt\n",
    "\n",
    "SEED = 42\n",
    "random.seed(SEED); np.random.seed(SEED); torch.manual_seed(SEED)\n",
    "torch.backends.cudnn.deterministic = True\n",
    "device = torch.device(\"cuda\" if torch.cuda.is_available() else \"cpu\")\n",
    "\n",
    "# Load IMDB (25k train, 25k test)\n",
    "ds = load_dataset(\"imdb\")\n",
    "train_df = ds[\"train\"].to_pandas()\n",
    "test_df  = ds[\"test\"].to_pandas()\n",
    "train_df.rename(columns={\"text\":\"text\",\"label\":\"label\"}, inplace=True)\n",
    "test_df.rename(columns={\"text\":\"text\",\"label\":\"label\"}, inplace=True)\n",
    "\n",
    "# Optional: subsample for quicker demo (uncomment to speed up)\n",
    "# train_df = train_df.sample(20000, random_state=SEED).reset_index(drop=True)\n",
    "# test_df  = test_df.sample(5000,  random_state=SEED).reset_index(drop=True)\n",
    "\n",
    "print(f\"Train: {len(train_df)}, Test: {len(test_df)}, Device: {device}\")"
   ]
  },
  {
   "cell_type": "code",
   "execution_count": null,
   "metadata": {
    "colab": {
     "base_uri": "https://localhost:8080/"
    },
    "executionInfo": {
     "elapsed": 181910,
     "status": "ok",
     "timestamp": 1755626217033,
     "user": {
      "displayName": "Dr. Dakshinamurthy V Kolluru",
      "userId": "15601723099574059066"
     },
     "user_tz": -330
    },
    "id": "e-g5cZuzTDpn",
    "outputId": "a040489b-0066-491e-a445-8df938792d3e"
   },
   "outputs": [
    {
     "name": "stdout",
     "output_type": "stream",
     "text": [
      "TF-IDF + RF accuracy: 0.8562\n"
     ]
    }
   ],
   "source": [
    "# 1) TF-IDF + RandomForest\n",
    "from sklearn.feature_extraction.text import TfidfVectorizer\n",
    "from sklearn.ensemble import RandomForestClassifier\n",
    "\n",
    "tfidf = TfidfVectorizer(max_features=50000, ngram_range=(1,2), stop_words=\"english\", lowercase=True)\n",
    "X_tr = tfidf.fit_transform(train_df.text.values)\n",
    "X_te = tfidf.transform(test_df.text.values)\n",
    "y_tr = train_df.label.values\n",
    "y_te = test_df.label.values\n",
    "\n",
    "rf = RandomForestClassifier(n_estimators=300, n_jobs=-1, random_state=SEED)\n",
    "rf.fit(X_tr, y_tr)\n",
    "pred = rf.predict(X_te)\n",
    "acc_tfidf_rf = accuracy_score(y_te, pred)\n",
    "print(\"TF-IDF + RF accuracy:\", acc_tfidf_rf)"
   ]
  },
  {
   "cell_type": "code",
   "execution_count": null,
   "metadata": {
    "colab": {
     "base_uri": "https://localhost:8080/"
    },
    "executionInfo": {
     "elapsed": 206586,
     "status": "ok",
     "timestamp": 1755626423611,
     "user": {
      "displayName": "Dr. Dakshinamurthy V Kolluru",
      "userId": "15601723099574059066"
     },
     "user_tz": -330
    },
    "id": "rv67XVYPTQ68",
    "outputId": "3184b0c6-e1f8-4c1c-8c3f-b23fb378b7a6"
   },
   "outputs": [
    {
     "name": "stdout",
     "output_type": "stream",
     "text": [
      "LSA + RF accuracy: 0.80488\n"
     ]
    }
   ],
   "source": [
    "# 2) LSA (Truncated SVD) + RandomForest\n",
    "from sklearn.decomposition import TruncatedSVD\n",
    "from sklearn.pipeline import Pipeline\n",
    "\n",
    "lsa_rf = Pipeline([\n",
    "    (\"tfidf\", TfidfVectorizer(max_features=50000, ngram_range=(1,2), stop_words=\"english\", lowercase=True)),\n",
    "    (\"svd\", TruncatedSVD(n_components=300, random_state=SEED)),\n",
    "    (\"rf\", RandomForestClassifier(n_estimators=300, n_jobs=-1, random_state=SEED))\n",
    "])\n",
    "lsa_rf.fit(train_df.text.values, y_tr)\n",
    "pred = lsa_rf.predict(test_df.text.values)\n",
    "acc_lsa_rf = accuracy_score(y_te, pred)\n",
    "print(\"LSA + RF accuracy:\", acc_lsa_rf)\n"
   ]
  },
  {
   "cell_type": "code",
   "execution_count": null,
   "metadata": {
    "colab": {
     "base_uri": "https://localhost:8080/"
    },
    "executionInfo": {
     "elapsed": 37350,
     "status": "ok",
     "timestamp": 1755626460939,
     "user": {
      "displayName": "Dr. Dakshinamurthy V Kolluru",
      "userId": "15601723099574059066"
     },
     "user_tz": -330
    },
    "id": "yAcqalTtTUQv",
    "outputId": "a00f8818-e573-4d80-b06c-912d650520bd"
   },
   "outputs": [
    {
     "name": "stdout",
     "output_type": "stream",
     "text": [
      "Epoch 1: loss=0.4710, acc=0.7579\n",
      "Epoch 2: loss=0.2562, acc=0.8956\n",
      "Bi-LSTM accuracy: 0.881\n"
     ]
    }
   ],
   "source": [
    "# Stacked Bi‑LSTM (PyTorch) (2 layers, bidirectional)\n",
    "import re\n",
    "from torch.utils.data import Dataset, DataLoader\n",
    "import torch.nn as nn\n",
    "import torch.nn.functional as F\n",
    "from collections import Counter\n",
    "\n",
    "def basic_tokenize(s):\n",
    "    s = s.lower()\n",
    "    return re.findall(r\"[a-z0-9]+\", s)\n",
    "\n",
    "# Build vocab\n",
    "MAX_VOCAB = 20000\n",
    "PAD, UNK = \"<pad>\", \"<unk>\"\n",
    "\n",
    "counter = Counter()\n",
    "for txt in train_df.text.values:\n",
    "    counter.update(basic_tokenize(txt))\n",
    "vocab = [PAD, UNK] + [w for w,_ in counter.most_common(MAX_VOCAB-2)]\n",
    "stoi = {w:i for i,w in enumerate(vocab)}\n",
    "\n",
    "def encode(text, max_len=256):\n",
    "    ids = [stoi.get(tok, stoi[UNK]) for tok in basic_tokenize(text)]\n",
    "    ids = ids[:max_len]\n",
    "    if len(ids) < max_len:\n",
    "        ids += [stoi[PAD]]*(max_len-len(ids))\n",
    "    return np.array(ids, dtype=np.int64)\n",
    "\n",
    "class TextDS(Dataset):\n",
    "    def __init__(self, df, max_len=256):\n",
    "        self.x = [encode(t, max_len) for t in df.text.values]\n",
    "        self.y = df.label.values.astype(np.int64)\n",
    "    def __len__(self): return len(self.y)\n",
    "    def __getitem__(self, i): return torch.tensor(self.x[i]), torch.tensor(self.y[i])\n",
    "\n",
    "train_ds_lstm = TextDS(train_df, max_len=256)\n",
    "test_ds_lstm  = TextDS(test_df,  max_len=256)\n",
    "\n",
    "BATCH=64\n",
    "train_dl = DataLoader(train_ds_lstm, batch_size=BATCH, shuffle=True, num_workers=2, pin_memory=True)\n",
    "test_dl  = DataLoader(test_ds_lstm,  batch_size=BATCH, shuffle=False, num_workers=2, pin_memory=True)\n",
    "\n",
    "class BiLSTMClassifier(nn.Module):\n",
    "    def __init__(self, vocab_size, emb_dim=100, hidden=128, layers=2, bidir=True, num_classes=2, pad_idx=0, dropout=0.3):\n",
    "        super().__init__()\n",
    "        self.emb = nn.Embedding(vocab_size, emb_dim, padding_idx=pad_idx)\n",
    "        self.lstm = nn.LSTM(emb_dim, hidden, num_layers=layers, batch_first=True, bidirectional=bidir, dropout=dropout)\n",
    "        out_dim = hidden * (2 if bidir else 1)\n",
    "        self.fc = nn.Sequential(nn.Dropout(dropout), nn.Linear(out_dim, num_classes))\n",
    "    def forward(self, x):\n",
    "        e = self.emb(x)                        # [B,T,E]\n",
    "        h,_ = self.lstm(e)                     # [B,T,H*dir]\n",
    "        # take last timestep OR max-pool; here we use max-pool for robustness\n",
    "        pooled,_ = torch.max(h, dim=1)         # [B,H*dir]\n",
    "        return self.fc(pooled)\n",
    "\n",
    "model_lstm = BiLSTMClassifier(len(vocab)).to(device)\n",
    "opt = torch.optim.AdamW(model_lstm.parameters(), lr=2e-3)\n",
    "crit = nn.CrossEntropyLoss()\n",
    "\n",
    "def train_epochs(model, epochs=2):\n",
    "    model.train()\n",
    "    for ep in range(epochs):\n",
    "        total, correct, n = 0.0, 0, 0\n",
    "        for xb, yb in train_dl:\n",
    "            xb, yb = xb.to(device), yb.to(device)\n",
    "            opt.zero_grad()\n",
    "            logits = model(xb)\n",
    "            loss = crit(logits, yb)\n",
    "            loss.backward()\n",
    "            nn.utils.clip_grad_norm_(model.parameters(), 1.0)\n",
    "            opt.step()\n",
    "            total += loss.item()*xb.size(0)\n",
    "            pred = logits.argmax(1)\n",
    "            correct += (pred==yb).sum().item(); n += xb.size(0)\n",
    "        print(f\"Epoch {ep+1}: loss={total/n:.4f}, acc={correct/n:.4f}\")\n",
    "\n",
    "@torch.no_grad()\n",
    "def eval_acc(model):\n",
    "    model.eval()\n",
    "    preds, gold = [], []\n",
    "    for xb,yb in test_dl:\n",
    "        xb = xb.to(device)\n",
    "        logits = model(xb)\n",
    "        preds.append(logits.argmax(1).cpu().numpy())\n",
    "        gold.append(yb.numpy())\n",
    "    preds = np.concatenate(preds); gold = np.concatenate(gold)\n",
    "    return accuracy_score(gold, preds)\n",
    "\n",
    "train_epochs(model_lstm, epochs=2)\n",
    "acc_bilstm = eval_acc(model_lstm)\n",
    "print(\"Bi-LSTM accuracy:\", acc_bilstm)"
   ]
  },
  {
   "cell_type": "code",
   "execution_count": null,
   "metadata": {
    "colab": {
     "base_uri": "https://localhost:8080/"
    },
    "executionInfo": {
     "elapsed": 42048,
     "status": "ok",
     "timestamp": 1755626502983,
     "user": {
      "displayName": "Dr. Dakshinamurthy V Kolluru",
      "userId": "15601723099574059066"
     },
     "user_tz": -330
    },
    "id": "JC6hhpzVTsrO",
    "outputId": "f67a63b5-9c99-43fe-8c83-4caefc36d676"
   },
   "outputs": [
    {
     "name": "stdout",
     "output_type": "stream",
     "text": [
      "[TX] Epoch 1: loss=0.4859, acc=0.7659\n",
      "[TX] Epoch 2: loss=0.3122, acc=0.8724\n"
     ]
    },
    {
     "name": "stderr",
     "output_type": "stream",
     "text": [
      "/usr/local/lib/python3.12/dist-packages/torch/nn/modules/transformer.py:515: UserWarning: The PyTorch API of nested tensors is in prototype stage and will change in the near future. We recommend specifying layout=torch.jagged when constructing a nested tensor, as this layout receives active development, has better operator coverage, and works with torch.compile. (Triggered internally at /pytorch/aten/src/ATen/NestedTensorImpl.cpp:178.)\n",
      "  output = torch._nested_tensor_from_mask(\n"
     ]
    },
    {
     "name": "stdout",
     "output_type": "stream",
     "text": [
      "Transformer(3L)+MaxPool accuracy: 0.85156\n"
     ]
    }
   ],
   "source": [
    "# Small Transformer Encoder (3 layers) + Max Pool\n",
    "class TransformerClassifier(nn.Module):\n",
    "    def __init__(self, vocab_size, emb_dim=128, nhead=4, num_layers=3, dim_ff=256, num_classes=2, pad_idx=0, dropout=0.1):\n",
    "        super().__init__()\n",
    "        self.emb = nn.Embedding(vocab_size, emb_dim, padding_idx=pad_idx)\n",
    "        encoder_layer = nn.TransformerEncoderLayer(d_model=emb_dim, nhead=nhead, dim_feedforward=dim_ff, batch_first=True, dropout=dropout, activation=\"gelu\")\n",
    "        self.encoder = nn.TransformerEncoder(encoder_layer, num_layers=num_layers)\n",
    "        self.norm = nn.LayerNorm(emb_dim)\n",
    "        self.head = nn.Sequential(nn.Dropout(dropout), nn.Linear(emb_dim, num_classes))\n",
    "    def forward(self, x):\n",
    "        mask = (x == stoi[PAD])             # [B,T]\n",
    "        e = self.emb(x)                     # [B,T,E]\n",
    "        z = self.encoder(e, src_key_padding_mask=mask)\n",
    "        z = self.norm(z)\n",
    "        pooled,_ = torch.max(z.masked_fill(mask.unsqueeze(-1), -1e9), dim=1)  # max-pool over T\n",
    "        return self.head(pooled)\n",
    "\n",
    "model_tx = TransformerClassifier(len(vocab)).to(device)\n",
    "opt_tx = torch.optim.AdamW(model_tx.parameters(), lr=2e-3, weight_decay=1e-2)\n",
    "crit = nn.CrossEntropyLoss()\n",
    "\n",
    "def train_epochs_tx(model, epochs=2):\n",
    "    model.train()\n",
    "    for ep in range(epochs):\n",
    "        total, correct, n = 0.0, 0, 0\n",
    "        for xb, yb in train_dl:\n",
    "            xb, yb = xb.to(device), yb.to(device)\n",
    "            opt_tx.zero_grad()\n",
    "            logits = model(xb)\n",
    "            loss = crit(logits, yb)\n",
    "            loss.backward()\n",
    "            nn.utils.clip_grad_norm_(model.parameters(), 1.0)\n",
    "            opt_tx.step()\n",
    "            total += loss.item()*xb.size(0)\n",
    "            pred = logits.argmax(1)\n",
    "            correct += (pred==yb).sum().item(); n += xb.size(0)\n",
    "        print(f\"[TX] Epoch {ep+1}: loss={total/n:.4f}, acc={correct/n:.4f}\")\n",
    "\n",
    "@torch.no_grad()\n",
    "def eval_acc_tx(model):\n",
    "    model.eval()\n",
    "    preds, gold = [], []\n",
    "    for xb,yb in test_dl:\n",
    "        xb = xb.to(device)\n",
    "        logits = model(xb)\n",
    "        preds.append(logits.argmax(1).cpu().numpy())\n",
    "        gold.append(yb.numpy())\n",
    "    preds = np.concatenate(preds); gold = np.concatenate(gold)\n",
    "    return accuracy_score(gold, preds)\n",
    "\n",
    "train_epochs_tx(model_tx, epochs=2)\n",
    "acc_tx = eval_acc_tx(model_tx)\n",
    "print(\"Transformer(3L)+MaxPool accuracy:\", acc_tx)\n"
   ]
  },
  {
   "cell_type": "code",
   "execution_count": null,
   "metadata": {
    "colab": {
     "base_uri": "https://localhost:8080/",
     "height": 161
    },
    "executionInfo": {
     "elapsed": 675989,
     "status": "ok",
     "timestamp": 1755627178975,
     "user": {
      "displayName": "Dr. Dakshinamurthy V Kolluru",
      "userId": "15601723099574059066"
     },
     "user_tz": -330
    },
    "id": "xTDCxoa7T0t6",
    "outputId": "c4ddf03c-1694-4ff3-a2ff-91a7de97e880"
   },
   "outputs": [
    {
     "data": {
      "text/html": [
       "\n",
       "<style>\n",
       "    /* Turns off some styling */\n",
       "    progress {\n",
       "        /* gets rid of default border in Firefox and Opera. */\n",
       "        border: none;\n",
       "        /* Needs to be in here for Safari polyfill so background images work as expected. */\n",
       "        background-size: auto;\n",
       "    }\n",
       "    progress:not([value]), progress:not([value])::-webkit-progress-bar {\n",
       "        background: repeating-linear-gradient(45deg, #7e7e7e, #7e7e7e 10px, #5c5c5c 10px, #5c5c5c 20px);\n",
       "    }\n",
       "    .progress-bar-interrupted, .progress-bar-interrupted::-webkit-progress-bar {\n",
       "        background: #F44336;\n",
       "    }\n",
       "</style>\n"
      ],
      "text/plain": [
       "<IPython.core.display.HTML object>"
      ]
     },
     "metadata": {},
     "output_type": "display_data"
    },
    {
     "data": {
      "text/html": [],
      "text/plain": [
       "<IPython.core.display.HTML object>"
      ]
     },
     "metadata": {},
     "output_type": "display_data"
    },
    {
     "data": {
      "text/html": [
       "\n",
       "<style>\n",
       "    /* Turns off some styling */\n",
       "    progress {\n",
       "        /* gets rid of default border in Firefox and Opera. */\n",
       "        border: none;\n",
       "        /* Needs to be in here for Safari polyfill so background images work as expected. */\n",
       "        background-size: auto;\n",
       "    }\n",
       "    progress:not([value]), progress:not([value])::-webkit-progress-bar {\n",
       "        background: repeating-linear-gradient(45deg, #7e7e7e, #7e7e7e 10px, #5c5c5c 10px, #5c5c5c 20px);\n",
       "    }\n",
       "    .progress-bar-interrupted, .progress-bar-interrupted::-webkit-progress-bar {\n",
       "        background: #F44336;\n",
       "    }\n",
       "</style>\n"
      ],
      "text/plain": [
       "<IPython.core.display.HTML object>"
      ]
     },
     "metadata": {},
     "output_type": "display_data"
    },
    {
     "data": {
      "text/html": [
       "<table border=\"1\" class=\"dataframe\">\n",
       "  <thead>\n",
       "    <tr style=\"text-align: left;\">\n",
       "      <th>epoch</th>\n",
       "      <th>train_loss</th>\n",
       "      <th>valid_loss</th>\n",
       "      <th>accuracy</th>\n",
       "      <th>time</th>\n",
       "    </tr>\n",
       "  </thead>\n",
       "  <tbody>\n",
       "    <tr>\n",
       "      <td>0</td>\n",
       "      <td>0.466327</td>\n",
       "      <td>0.389576</td>\n",
       "      <td>0.830800</td>\n",
       "      <td>01:42</td>\n",
       "    </tr>\n",
       "  </tbody>\n",
       "</table>"
      ],
      "text/plain": [
       "<IPython.core.display.HTML object>"
      ]
     },
     "metadata": {},
     "output_type": "display_data"
    },
    {
     "data": {
      "text/html": [
       "\n",
       "<style>\n",
       "    /* Turns off some styling */\n",
       "    progress {\n",
       "        /* gets rid of default border in Firefox and Opera. */\n",
       "        border: none;\n",
       "        /* Needs to be in here for Safari polyfill so background images work as expected. */\n",
       "        background-size: auto;\n",
       "    }\n",
       "    progress:not([value]), progress:not([value])::-webkit-progress-bar {\n",
       "        background: repeating-linear-gradient(45deg, #7e7e7e, #7e7e7e 10px, #5c5c5c 10px, #5c5c5c 20px);\n",
       "    }\n",
       "    .progress-bar-interrupted, .progress-bar-interrupted::-webkit-progress-bar {\n",
       "        background: #F44336;\n",
       "    }\n",
       "</style>\n"
      ],
      "text/plain": [
       "<IPython.core.display.HTML object>"
      ]
     },
     "metadata": {},
     "output_type": "display_data"
    },
    {
     "data": {
      "text/html": [
       "<table border=\"1\" class=\"dataframe\">\n",
       "  <thead>\n",
       "    <tr style=\"text-align: left;\">\n",
       "      <th>epoch</th>\n",
       "      <th>train_loss</th>\n",
       "      <th>valid_loss</th>\n",
       "      <th>accuracy</th>\n",
       "      <th>time</th>\n",
       "    </tr>\n",
       "  </thead>\n",
       "  <tbody>\n",
       "    <tr>\n",
       "      <td>0</td>\n",
       "      <td>0.357900</td>\n",
       "      <td>0.275442</td>\n",
       "      <td>0.888600</td>\n",
       "      <td>04:25</td>\n",
       "    </tr>\n",
       "  </tbody>\n",
       "</table>"
      ],
      "text/plain": [
       "<IPython.core.display.HTML object>"
      ]
     },
     "metadata": {},
     "output_type": "display_data"
    },
    {
     "data": {
      "text/html": [
       "\n",
       "<style>\n",
       "    /* Turns off some styling */\n",
       "    progress {\n",
       "        /* gets rid of default border in Firefox and Opera. */\n",
       "        border: none;\n",
       "        /* Needs to be in here for Safari polyfill so background images work as expected. */\n",
       "        background-size: auto;\n",
       "    }\n",
       "    progress:not([value]), progress:not([value])::-webkit-progress-bar {\n",
       "        background: repeating-linear-gradient(45deg, #7e7e7e, #7e7e7e 10px, #5c5c5c 10px, #5c5c5c 20px);\n",
       "    }\n",
       "    .progress-bar-interrupted, .progress-bar-interrupted::-webkit-progress-bar {\n",
       "        background: #F44336;\n",
       "    }\n",
       "</style>\n"
      ],
      "text/plain": [
       "<IPython.core.display.HTML object>"
      ]
     },
     "metadata": {},
     "output_type": "display_data"
    },
    {
     "data": {
      "text/html": [],
      "text/plain": [
       "<IPython.core.display.HTML object>"
      ]
     },
     "metadata": {},
     "output_type": "display_data"
    },
    {
     "name": "stdout",
     "output_type": "stream",
     "text": [
      "ULMFiT (AWD-LSTM) accuracy: 0.8818\n"
     ]
    }
   ],
   "source": [
    "# ULMFiT (fastai AWD-LSTM) fine-tune\n",
    "from fastai.text.all import *\n",
    "\n",
    "# Prepare fastai DataLoaders (train/valid from official train, then test_dl for official test)\n",
    "df_tr = train_df.copy()\n",
    "df_te = test_df.copy()\n",
    "df_tr[\"is_valid\"] = False\n",
    "# create a small validation from train set for monitoring\n",
    "tr_idx, va_idx = train_test_split(np.arange(len(df_tr)), test_size=0.1, random_state=SEED, stratify=df_tr.label)\n",
    "df_tr.loc[va_idx, \"is_valid\"] = True\n",
    "\n",
    "dls = TextDataLoaders.from_df(df=df_tr, text_col=\"text\", label_col=\"label\", is_valid_col=\"is_valid\",\n",
    "                              bs=64, seq_len=72)  # smaller seq_len for speed\n",
    "\n",
    "learn = text_classifier_learner(dls, AWD_LSTM, metrics=accuracy)\n",
    "learn.fine_tune(1)\n",
    "\n",
    "# Evaluate on official test set\n",
    "test_dl = dls.test_dl(df_te[\"text\"].values)\n",
    "preds, _ = learn.get_preds(dl=test_dl)\n",
    "pred_labels = preds.argmax(1).numpy()\n",
    "acc_ulmfit = accuracy_score(df_te[\"label\"].values, pred_labels)\n",
    "print(\"ULMFiT (AWD-LSTM) accuracy:\", acc_ulmfit)\n"
   ]
  },
  {
   "cell_type": "code",
   "execution_count": null,
   "metadata": {
    "colab": {
     "base_uri": "https://localhost:8080/"
    },
    "executionInfo": {
     "elapsed": 11254,
     "status": "ok",
     "timestamp": 1755625140737,
     "user": {
      "displayName": "Dr. Dakshinamurthy V Kolluru",
      "userId": "15601723099574059066"
     },
     "user_tz": -330
    },
    "id": "ZytNTRe9ZbhB",
    "outputId": "f83ea8ba-4645-4bc9-b370-aaa91da3dd20"
   },
   "outputs": [
    {
     "name": "stdout",
     "output_type": "stream",
     "text": [
      "Requirement already satisfied: transformers in /usr/local/lib/python3.12/dist-packages (4.55.2)\n",
      "Requirement already satisfied: accelerate in /usr/local/lib/python3.12/dist-packages (1.10.0)\n",
      "Requirement already satisfied: filelock in /usr/local/lib/python3.12/dist-packages (from transformers) (3.19.1)\n",
      "Requirement already satisfied: huggingface-hub<1.0,>=0.34.0 in /usr/local/lib/python3.12/dist-packages (from transformers) (0.34.4)\n",
      "Requirement already satisfied: numpy>=1.17 in /usr/local/lib/python3.12/dist-packages (from transformers) (2.0.2)\n",
      "Requirement already satisfied: packaging>=20.0 in /usr/local/lib/python3.12/dist-packages (from transformers) (25.0)\n",
      "Requirement already satisfied: pyyaml>=5.1 in /usr/local/lib/python3.12/dist-packages (from transformers) (6.0.2)\n",
      "Requirement already satisfied: regex!=2019.12.17 in /usr/local/lib/python3.12/dist-packages (from transformers) (2024.11.6)\n",
      "Requirement already satisfied: requests in /usr/local/lib/python3.12/dist-packages (from transformers) (2.32.3)\n",
      "Requirement already satisfied: tokenizers<0.22,>=0.21 in /usr/local/lib/python3.12/dist-packages (from transformers) (0.21.4)\n",
      "Requirement already satisfied: safetensors>=0.4.3 in /usr/local/lib/python3.12/dist-packages (from transformers) (0.6.2)\n",
      "Requirement already satisfied: tqdm>=4.27 in /usr/local/lib/python3.12/dist-packages (from transformers) (4.67.1)\n",
      "Requirement already satisfied: psutil in /usr/local/lib/python3.12/dist-packages (from accelerate) (5.9.5)\n",
      "Requirement already satisfied: torch>=2.0.0 in /usr/local/lib/python3.12/dist-packages (from accelerate) (2.8.0+cu126)\n",
      "Requirement already satisfied: fsspec>=2023.5.0 in /usr/local/lib/python3.12/dist-packages (from huggingface-hub<1.0,>=0.34.0->transformers) (2025.3.0)\n",
      "Requirement already satisfied: typing-extensions>=3.7.4.3 in /usr/local/lib/python3.12/dist-packages (from huggingface-hub<1.0,>=0.34.0->transformers) (4.14.1)\n",
      "Requirement already satisfied: hf-xet<2.0.0,>=1.1.3 in /usr/local/lib/python3.12/dist-packages (from huggingface-hub<1.0,>=0.34.0->transformers) (1.1.7)\n",
      "Requirement already satisfied: setuptools in /usr/local/lib/python3.12/dist-packages (from torch>=2.0.0->accelerate) (75.2.0)\n",
      "Requirement already satisfied: sympy>=1.13.3 in /usr/local/lib/python3.12/dist-packages (from torch>=2.0.0->accelerate) (1.13.3)\n",
      "Requirement already satisfied: networkx in /usr/local/lib/python3.12/dist-packages (from torch>=2.0.0->accelerate) (3.5)\n",
      "Requirement already satisfied: jinja2 in /usr/local/lib/python3.12/dist-packages (from torch>=2.0.0->accelerate) (3.1.6)\n",
      "Requirement already satisfied: nvidia-cuda-nvrtc-cu12==12.6.77 in /usr/local/lib/python3.12/dist-packages (from torch>=2.0.0->accelerate) (12.6.77)\n",
      "Requirement already satisfied: nvidia-cuda-runtime-cu12==12.6.77 in /usr/local/lib/python3.12/dist-packages (from torch>=2.0.0->accelerate) (12.6.77)\n",
      "Requirement already satisfied: nvidia-cuda-cupti-cu12==12.6.80 in /usr/local/lib/python3.12/dist-packages (from torch>=2.0.0->accelerate) (12.6.80)\n",
      "Requirement already satisfied: nvidia-cudnn-cu12==9.10.2.21 in /usr/local/lib/python3.12/dist-packages (from torch>=2.0.0->accelerate) (9.10.2.21)\n",
      "Requirement already satisfied: nvidia-cublas-cu12==12.6.4.1 in /usr/local/lib/python3.12/dist-packages (from torch>=2.0.0->accelerate) (12.6.4.1)\n",
      "Requirement already satisfied: nvidia-cufft-cu12==11.3.0.4 in /usr/local/lib/python3.12/dist-packages (from torch>=2.0.0->accelerate) (11.3.0.4)\n",
      "Requirement already satisfied: nvidia-curand-cu12==10.3.7.77 in /usr/local/lib/python3.12/dist-packages (from torch>=2.0.0->accelerate) (10.3.7.77)\n",
      "Requirement already satisfied: nvidia-cusolver-cu12==11.7.1.2 in /usr/local/lib/python3.12/dist-packages (from torch>=2.0.0->accelerate) (11.7.1.2)\n",
      "Requirement already satisfied: nvidia-cusparse-cu12==12.5.4.2 in /usr/local/lib/python3.12/dist-packages (from torch>=2.0.0->accelerate) (12.5.4.2)\n",
      "Requirement already satisfied: nvidia-cusparselt-cu12==0.7.1 in /usr/local/lib/python3.12/dist-packages (from torch>=2.0.0->accelerate) (0.7.1)\n",
      "Requirement already satisfied: nvidia-nccl-cu12==2.27.3 in /usr/local/lib/python3.12/dist-packages (from torch>=2.0.0->accelerate) (2.27.3)\n",
      "Requirement already satisfied: nvidia-nvtx-cu12==12.6.77 in /usr/local/lib/python3.12/dist-packages (from torch>=2.0.0->accelerate) (12.6.77)\n",
      "Requirement already satisfied: nvidia-nvjitlink-cu12==12.6.85 in /usr/local/lib/python3.12/dist-packages (from torch>=2.0.0->accelerate) (12.6.85)\n",
      "Requirement already satisfied: nvidia-cufile-cu12==1.11.1.6 in /usr/local/lib/python3.12/dist-packages (from torch>=2.0.0->accelerate) (1.11.1.6)\n",
      "Requirement already satisfied: triton==3.4.0 in /usr/local/lib/python3.12/dist-packages (from torch>=2.0.0->accelerate) (3.4.0)\n",
      "Requirement already satisfied: charset-normalizer<4,>=2 in /usr/local/lib/python3.12/dist-packages (from requests->transformers) (3.4.3)\n",
      "Requirement already satisfied: idna<4,>=2.5 in /usr/local/lib/python3.12/dist-packages (from requests->transformers) (3.10)\n",
      "Requirement already satisfied: urllib3<3,>=1.21.1 in /usr/local/lib/python3.12/dist-packages (from requests->transformers) (2.5.0)\n",
      "Requirement already satisfied: certifi>=2017.4.17 in /usr/local/lib/python3.12/dist-packages (from requests->transformers) (2025.8.3)\n",
      "Requirement already satisfied: mpmath<1.4,>=1.1.0 in /usr/local/lib/python3.12/dist-packages (from sympy>=1.13.3->torch>=2.0.0->accelerate) (1.3.0)\n",
      "Requirement already satisfied: MarkupSafe>=2.0 in /usr/local/lib/python3.12/dist-packages (from jinja2->torch>=2.0.0->accelerate) (3.0.2)\n"
     ]
    }
   ],
   "source": [
    "!pip install -U transformers accelerate\n",
    "!pip -q install evaluate"
   ]
  },
  {
   "cell_type": "code",
   "execution_count": null,
   "metadata": {
    "colab": {
     "base_uri": "https://localhost:8080/",
     "height": 1000,
     "referenced_widgets": [
      "81e6c2315e9343de819e108688761a4e",
      "fbb9ca382efb4fe08ed97f014ce4db12",
      "0045f13169dd4b6f8a343f201490f477",
      "4c9dffab33e74db9837d62df1dba81e0",
      "f1267a89200f47f29ee0a4066705dd32",
      "5bd6750a818e4ff28ff524c58f60b13c",
      "6bc77d267b28418c98952c7ddec6ac33",
      "259ad97ccefc46c0aea1fba58f7a2351",
      "1969c39cd3464e0494b623a50c56d9fe",
      "20b7961bb099490c93f04181a1c1270a",
      "bc4c58344bf849b89ef8c8aacbba984e",
      "3f05ebdb19144b489db287e0ab0fa4d3",
      "d2398c9ce9d74ebaa73c54be8bf363ff",
      "5df566c367b64dd59db88ea3ff69dd15",
      "0d96877d9f474c09a5ab0e110f1c5297",
      "211e8e0b8fc045d691b0bf0b7d898967",
      "0af8c7005a594e52ba543a2f94a141f3",
      "448e2360abea4099b64ac290f01076d4",
      "d98efe8d1f7a451888ad690163b89d26",
      "125e9ebd5de64b588d55cf0ed9d0973e",
      "9441a668da3f4ca78f50cea68ee537c4",
      "919e46b2d629457d8065d7e13b7d4563"
     ]
    },
    "executionInfo": {
     "elapsed": 599987,
     "status": "ok",
     "timestamp": 1755626011536,
     "user": {
      "displayName": "Dr. Dakshinamurthy V Kolluru",
      "userId": "15601723099574059066"
     },
     "user_tz": -330
    },
    "id": "cqismKyPT4ov",
    "outputId": "24b4867f-405a-4bb4-f096-14b643218d1a"
   },
   "outputs": [
    {
     "data": {
      "application/vnd.jupyter.widget-view+json": {
       "model_id": "81e6c2315e9343de819e108688761a4e",
       "version_major": 2,
       "version_minor": 0
      },
      "text/plain": [
       "Map:   0%|          | 0/25000 [00:00<?, ? examples/s]"
      ]
     },
     "metadata": {},
     "output_type": "display_data"
    },
    {
     "data": {
      "application/vnd.jupyter.widget-view+json": {
       "model_id": "3f05ebdb19144b489db287e0ab0fa4d3",
       "version_major": 2,
       "version_minor": 0
      },
      "text/plain": [
       "Map:   0%|          | 0/25000 [00:00<?, ? examples/s]"
      ]
     },
     "metadata": {},
     "output_type": "display_data"
    },
    {
     "name": "stderr",
     "output_type": "stream",
     "text": [
      "Some weights of DistilBertForSequenceClassification were not initialized from the model checkpoint at distilbert-base-uncased and are newly initialized: ['classifier.bias', 'classifier.weight', 'pre_classifier.bias', 'pre_classifier.weight']\n",
      "You should probably TRAIN this model on a down-stream task to be able to use it for predictions and inference.\n",
      "/tmp/ipython-input-3601153909.py:54: FutureWarning: `tokenizer` is deprecated and will be removed in version 5.0.0 for `Trainer.__init__`. Use `processing_class` instead.\n",
      "  trainer = Trainer(\n"
     ]
    },
    {
     "data": {
      "text/html": [
       "\n",
       "    <div>\n",
       "      \n",
       "      <progress value='3126' max='3126' style='width:300px; height:20px; vertical-align: middle;'></progress>\n",
       "      [3126/3126 08:28, Epoch 2/2]\n",
       "    </div>\n",
       "    <table border=\"1\" class=\"dataframe\">\n",
       "  <thead>\n",
       " <tr style=\"text-align: left;\">\n",
       "      <th>Step</th>\n",
       "      <th>Training Loss</th>\n",
       "    </tr>\n",
       "  </thead>\n",
       "  <tbody>\n",
       "    <tr>\n",
       "      <td>100</td>\n",
       "      <td>0.464500</td>\n",
       "    </tr>\n",
       "    <tr>\n",
       "      <td>200</td>\n",
       "      <td>0.319800</td>\n",
       "    </tr>\n",
       "    <tr>\n",
       "      <td>300</td>\n",
       "      <td>0.333400</td>\n",
       "    </tr>\n",
       "    <tr>\n",
       "      <td>400</td>\n",
       "      <td>0.294700</td>\n",
       "    </tr>\n",
       "    <tr>\n",
       "      <td>500</td>\n",
       "      <td>0.285100</td>\n",
       "    </tr>\n",
       "    <tr>\n",
       "      <td>600</td>\n",
       "      <td>0.279500</td>\n",
       "    </tr>\n",
       "    <tr>\n",
       "      <td>700</td>\n",
       "      <td>0.294300</td>\n",
       "    </tr>\n",
       "    <tr>\n",
       "      <td>800</td>\n",
       "      <td>0.270000</td>\n",
       "    </tr>\n",
       "    <tr>\n",
       "      <td>900</td>\n",
       "      <td>0.238700</td>\n",
       "    </tr>\n",
       "    <tr>\n",
       "      <td>1000</td>\n",
       "      <td>0.295900</td>\n",
       "    </tr>\n",
       "    <tr>\n",
       "      <td>1100</td>\n",
       "      <td>0.263600</td>\n",
       "    </tr>\n",
       "    <tr>\n",
       "      <td>1200</td>\n",
       "      <td>0.279700</td>\n",
       "    </tr>\n",
       "    <tr>\n",
       "      <td>1300</td>\n",
       "      <td>0.245500</td>\n",
       "    </tr>\n",
       "    <tr>\n",
       "      <td>1400</td>\n",
       "      <td>0.241600</td>\n",
       "    </tr>\n",
       "    <tr>\n",
       "      <td>1500</td>\n",
       "      <td>0.247300</td>\n",
       "    </tr>\n",
       "    <tr>\n",
       "      <td>1600</td>\n",
       "      <td>0.216800</td>\n",
       "    </tr>\n",
       "    <tr>\n",
       "      <td>1700</td>\n",
       "      <td>0.190600</td>\n",
       "    </tr>\n",
       "    <tr>\n",
       "      <td>1800</td>\n",
       "      <td>0.145900</td>\n",
       "    </tr>\n",
       "    <tr>\n",
       "      <td>1900</td>\n",
       "      <td>0.190100</td>\n",
       "    </tr>\n",
       "    <tr>\n",
       "      <td>2000</td>\n",
       "      <td>0.166100</td>\n",
       "    </tr>\n",
       "    <tr>\n",
       "      <td>2100</td>\n",
       "      <td>0.157700</td>\n",
       "    </tr>\n",
       "    <tr>\n",
       "      <td>2200</td>\n",
       "      <td>0.194100</td>\n",
       "    </tr>\n",
       "    <tr>\n",
       "      <td>2300</td>\n",
       "      <td>0.162800</td>\n",
       "    </tr>\n",
       "    <tr>\n",
       "      <td>2400</td>\n",
       "      <td>0.175200</td>\n",
       "    </tr>\n",
       "    <tr>\n",
       "      <td>2500</td>\n",
       "      <td>0.157300</td>\n",
       "    </tr>\n",
       "    <tr>\n",
       "      <td>2600</td>\n",
       "      <td>0.174600</td>\n",
       "    </tr>\n",
       "    <tr>\n",
       "      <td>2700</td>\n",
       "      <td>0.165700</td>\n",
       "    </tr>\n",
       "    <tr>\n",
       "      <td>2800</td>\n",
       "      <td>0.176300</td>\n",
       "    </tr>\n",
       "    <tr>\n",
       "      <td>2900</td>\n",
       "      <td>0.165500</td>\n",
       "    </tr>\n",
       "    <tr>\n",
       "      <td>3000</td>\n",
       "      <td>0.152700</td>\n",
       "    </tr>\n",
       "    <tr>\n",
       "      <td>3100</td>\n",
       "      <td>0.140700</td>\n",
       "    </tr>\n",
       "  </tbody>\n",
       "</table><p>"
      ],
      "text/plain": [
       "<IPython.core.display.HTML object>"
      ]
     },
     "metadata": {},
     "output_type": "display_data"
    },
    {
     "data": {
      "text/html": [
       "\n",
       "    <div>\n",
       "      \n",
       "      <progress value='782' max='782' style='width:300px; height:20px; vertical-align: middle;'></progress>\n",
       "      [782/782 00:42]\n",
       "    </div>\n",
       "    "
      ],
      "text/plain": [
       "<IPython.core.display.HTML object>"
      ]
     },
     "metadata": {},
     "output_type": "display_data"
    },
    {
     "name": "stdout",
     "output_type": "stream",
     "text": [
      "DistilBERT accuracy: 0.91256\n"
     ]
    }
   ],
   "source": [
    "# 6) DistilBERT fine-tune (HF Trainer)\n",
    "# DistilBERT fine-tune (compatible with older Transformers)\n",
    "import numpy as np, torch\n",
    "from transformers import (AutoTokenizer, AutoModelForSequenceClassification,\n",
    "                          DataCollatorWithPadding, TrainingArguments, Trainer)\n",
    "from datasets import Dataset as HFDataset, DatasetDict\n",
    "\n",
    "device = torch.device(\"cuda\" if torch.cuda.is_available() else \"cpu\")\n",
    "\n",
    "# Use your existing train_df/test_df; if not present, raise a clear error\n",
    "assert 'train_df' in globals() and 'test_df' in globals(), \"Run the setup cell that creates train_df/test_df first.\"\n",
    "\n",
    "# Build HF datasets from pandas\n",
    "hf_ds = DatasetDict({\n",
    "    \"train\": HFDataset.from_pandas(train_df[[\"text\",\"label\"]].reset_index(drop=True)),\n",
    "    \"test\":  HFDataset.from_pandas(test_df[[\"text\",\"label\"]].reset_index(drop=True))\n",
    "})\n",
    "\n",
    "# Tokenizer & tokenization\n",
    "model_ckpt = \"distilbert-base-uncased\"\n",
    "tokenizer = AutoTokenizer.from_pretrained(model_ckpt)\n",
    "\n",
    "tok_ds = hf_ds.map(lambda b: tokenizer(b[\"text\"], truncation=True, max_length=256),\n",
    "                   batched=True, remove_columns=[\"text\"])\n",
    "tok_ds = tok_ds.rename_column(\"label\", \"labels\")\n",
    "tok_ds = tok_ds.remove_columns([c for c in tok_ds[\"train\"].column_names\n",
    "                                if c not in [\"input_ids\",\"attention_mask\",\"labels\"]])\n",
    "\n",
    "data_collator = DataCollatorWithPadding(tokenizer=tokenizer)\n",
    "\n",
    "# Model\n",
    "model = AutoModelForSequenceClassification.from_pretrained(model_ckpt, num_labels=2).to(device)\n",
    "\n",
    "# Training args (no evaluation_strategy)\n",
    "train_args = TrainingArguments(\n",
    "    output_dir=\"./distilbert_imdb\",\n",
    "    do_eval=True,                       # older API uses this flag\n",
    "    per_device_train_batch_size=16 if device.type==\"cuda\" else 8,\n",
    "    per_device_eval_batch_size=32 if device.type==\"cuda\" else 16,\n",
    "    num_train_epochs=2,\n",
    "    learning_rate=2e-5,\n",
    "    weight_decay=0.01,\n",
    "    logging_steps=100,\n",
    "    fp16=(device.type==\"cuda\"),\n",
    "    report_to=[]\n",
    ")\n",
    "\n",
    "# Simple accuracy metric without extra deps\n",
    "def compute_metrics(eval_pred):\n",
    "    logits, labels = eval_pred\n",
    "    preds = np.argmax(logits, axis=-1)\n",
    "    return {\"accuracy\": float((preds == labels).mean())}\n",
    "\n",
    "trainer = Trainer(\n",
    "    model=model,\n",
    "    args=train_args,\n",
    "    train_dataset=tok_ds[\"train\"],\n",
    "    eval_dataset=tok_ds[\"test\"],\n",
    "    tokenizer=tokenizer,\n",
    "    data_collator=data_collator,\n",
    "    compute_metrics=compute_metrics\n",
    ")\n",
    "\n",
    "trainer.train()\n",
    "eval_res = trainer.evaluate(tok_ds[\"test\"])\n",
    "acc_distilbert = float(eval_res.get(\"eval_accuracy\", 0.0))\n",
    "print(\"DistilBERT accuracy:\", acc_distilbert)\n"
   ]
  },
  {
   "cell_type": "code",
   "execution_count": null,
   "metadata": {
    "colab": {
     "base_uri": "https://localhost:8080/",
     "height": 465
    },
    "executionInfo": {
     "elapsed": 550,
     "status": "ok",
     "timestamp": 1755627399199,
     "user": {
      "displayName": "Dr. Dakshinamurthy V Kolluru",
      "userId": "15601723099574059066"
     },
     "user_tz": -330
    },
    "id": "FXK6a1umT9mX",
    "outputId": "b39f13e1-4098-4794-9eed-099323efa31c"
   },
   "outputs": [
    {
     "data": {
      "image/png": "[encoded data removed]",
      "text/plain": [
       "<Figure size 900x400 with 1 Axes>"
      ]
     },
     "metadata": {},
     "output_type": "display_data"
    }
   ],
   "source": [
    "# @title 7b) Accuracy Comparison (zoomed to 0.75–1.00)\n",
    "import numpy as np\n",
    "import matplotlib.pyplot as plt\n",
    "\n",
    "# Reuse existing 'accs' if present; otherwise rebuild from variables\n",
    "try:\n",
    "    accs\n",
    "except NameError:\n",
    "    accs = {\n",
    "        \"TF-IDF + RF\": float(acc_tfidf_rf),\n",
    "        \"LSA + RF\": float(acc_lsa_rf),\n",
    "        \"Bi-LSTM\": float(acc_bilstm),\n",
    "        \"Transformer(3L)+MaxPool\": float(acc_tx),\n",
    "        \"ULMFiT\": float(acc_ulmfit),\n",
    "        \"DistilBERT\": float(acc_distilbert),\n",
    "    }\n",
    "\n",
    "# Sort by accuracy (desc) for readability\n",
    "labels, values = zip(*sorted(accs.items(), key=lambda kv: kv[1], reverse=True))\n",
    "\n",
    "plt.figure(figsize=(9,4))\n",
    "bars = plt.bar(labels, values)\n",
    "plt.xticks(rotation=25, ha=\"right\")\n",
    "plt.ylabel(\"Test Accuracy\")\n",
    "plt.title(\"IMDB: Accuracy Comparison (Zoomed)\")\n",
    "plt.ylim(0.75, 1.00)                     # << zoomed range\n",
    "plt.yticks(np.linspace(0.75, 1.00, 6))   # 0.75, 0.80, ..., 1.00\n",
    "plt.grid(axis=\"y\", alpha=0.3, linestyle=\"--\", linewidth=0.6)\n",
    "\n",
    "# Add value labels on bars\n",
    "for b in bars:\n",
    "    h = b.get_height()\n",
    "    plt.text(b.get_x() + b.get_width()/2, h + 0.001, f\"{h:.3f}\",\n",
    "             ha=\"center\", va=\"bottom\", fontsize=9)\n",
    "\n",
    "plt.show()\n"
   ]
  }
 ],
 "metadata": {
  "accelerator": "GPU",
  "colab": {
   "authorship_tag": "ABX9TyNpaPs0ke2FqeWfLlXFrxho",
   "gpuType": "T4",
   "provenance": []
  },
  "kernelspec": {
   "display_name": "Python 3",
   "name": "python3"
  },
  "language_info": {
   "name": "python"
  },
  "widgets": {
   "application/vnd.jupyter.widget-state+json": {
    "0045f13169dd4b6f8a343f201490f477": {
     "model_module": "@jupyter-widgets/controls",
     "model_module_version": "1.5.0",
     "model_name": "FloatProgressModel",
     "state": {
      "_dom_classes": [],
      "_model_module": "@jupyter-widgets/controls",
      "_model_module_version": "1.5.0",
      "_model_name": "FloatProgressModel",
      "_view_count": null,
      "_view_module": "@jupyter-widgets/controls",
      "_view_module_version": "1.5.0",
      "_view_name": "ProgressView",
      "bar_style": "success",
      "description": "",
      "description_tooltip": null,
      "layout": "IPY_MODEL_259ad97ccefc46c0aea1fba58f7a2351",
      "max": 25000,
      "min": 0,
      "orientation": "horizontal",
      "style": "IPY_MODEL_1969c39cd3464e0494b623a50c56d9fe",
      "value": 25000
     }
    },
    "0af8c7005a594e52ba543a2f94a141f3": {
     "model_module": "@jupyter-widgets/base",
     "model_module_version": "1.2.0",
     "model_name": "LayoutModel",
     "state": {
      "_model_module": "@jupyter-widgets/base",
      "_model_module_version": "1.2.0",
      "_model_name": "LayoutModel",
      "_view_count": null,
      "_view_module": "@jupyter-widgets/base",
      "_view_module_version": "1.2.0",
      "_view_name": "LayoutView",
      "align_content": null,
      "align_items": null,
      "align_self": null,
      "border": null,
      "bottom": null,
      "display": null,
      "flex": null,
      "flex_flow": null,
      "grid_area": null,
      "grid_auto_columns": null,
      "grid_auto_flow": null,
      "grid_auto_rows": null,
      "grid_column": null,
      "grid_gap": null,
      "grid_row": null,
      "grid_template_areas": null,
      "grid_template_columns": null,
      "grid_template_rows": null,
      "height": null,
      "justify_content": null,
      "justify_items": null,
      "left": null,
      "margin": null,
      "max_height": null,
      "max_width": null,
      "min_height": null,
      "min_width": null,
      "object_fit": null,
      "object_position": null,
      "order": null,
      "overflow": null,
      "overflow_x": null,
      "overflow_y": null,
      "padding": null,
      "right": null,
      "top": null,
      "visibility": null,
      "width": null
     }
    },
    "0d96877d9f474c09a5ab0e110f1c5297": {
     "model_module": "@jupyter-widgets/controls",
     "model_module_version": "1.5.0",
     "model_name": "HTMLModel",
     "state": {
      "_dom_classes": [],
      "_model_module": "@jupyter-widgets/controls",
      "_model_module_version": "1.5.0",
      "_model_name": "HTMLModel",
      "_view_count": null,
      "_view_module": "@jupyter-widgets/controls",
      "_view_module_version": "1.5.0",
      "_view_name": "HTMLView",
      "description": "",
      "description_tooltip": null,
      "layout": "IPY_MODEL_9441a668da3f4ca78f50cea68ee537c4",
      "placeholder": "​",
      "style": "IPY_MODEL_919e46b2d629457d8065d7e13b7d4563",
      "value": " 25000/25000 [00:21&lt;00:00, 1255.08 examples/s]"
     }
    },
    "125e9ebd5de64b588d55cf0ed9d0973e": {
     "model_module": "@jupyter-widgets/controls",
     "model_module_version": "1.5.0",
     "model_name": "ProgressStyleModel",
     "state": {
      "_model_module": "@jupyter-widgets/controls",
      "_model_module_version": "1.5.0",
      "_model_name": "ProgressStyleModel",
      "_view_count": null,
      "_view_module": "@jupyter-widgets/base",
      "_view_module_version": "1.2.0",
      "_view_name": "StyleView",
      "bar_color": null,
      "description_width": ""
     }
    },
    "1969c39cd3464e0494b623a50c56d9fe": {
     "model_module": "@jupyter-widgets/controls",
     "model_module_version": "1.5.0",
     "model_name": "ProgressStyleModel",
     "state": {
      "_model_module": "@jupyter-widgets/controls",
      "_model_module_version": "1.5.0",
      "_model_name": "ProgressStyleModel",
      "_view_count": null,
      "_view_module": "@jupyter-widgets/base",
      "_view_module_version": "1.2.0",
      "_view_name": "StyleView",
      "bar_color": null,
      "description_width": ""
     }
    },
    "20b7961bb099490c93f04181a1c1270a": {
     "model_module": "@jupyter-widgets/base",
     "model_module_version": "1.2.0",
     "model_name": "LayoutModel",
     "state": {
      "_model_module": "@jupyter-widgets/base",
      "_model_module_version": "1.2.0",
      "_model_name": "LayoutModel",
      "_view_count": null,
      "_view_module": "@jupyter-widgets/base",
      "_view_module_version": "1.2.0",
      "_view_name": "LayoutView",
      "align_content": null,
      "align_items": null,
      "align_self": null,
      "border": null,
      "bottom": null,
      "display": null,
      "flex": null,
      "flex_flow": null,
      "grid_area": null,
      "grid_auto_columns": null,
      "grid_auto_flow": null,
      "grid_auto_rows": null,
      "grid_column": null,
      "grid_gap": null,
      "grid_row": null,
      "grid_template_areas": null,
      "grid_template_columns": null,
      "grid_template_rows": null,
      "height": null,
      "justify_content": null,
      "justify_items": null,
      "left": null,
      "margin": null,
      "max_height": null,
      "max_width": null,
      "min_height": null,
      "min_width": null,
      "object_fit": null,
      "object_position": null,
      "order": null,
      "overflow": null,
      "overflow_x": null,
      "overflow_y": null,
      "padding": null,
      "right": null,
      "top": null,
      "visibility": null,
      "width": null
     }
    },
    "211e8e0b8fc045d691b0bf0b7d898967": {
     "model_module": "@jupyter-widgets/base",
     "model_module_version": "1.2.0",
     "model_name": "LayoutModel",
     "state": {
      "_model_module": "@jupyter-widgets/base",
      "_model_module_version": "1.2.0",
      "_model_name": "LayoutModel",
      "_view_count": null,
      "_view_module": "@jupyter-widgets/base",
      "_view_module_version": "1.2.0",
      "_view_name": "LayoutView",
      "align_content": null,
      "align_items": null,
      "align_self": null,
      "border": null,
      "bottom": null,
      "display": null,
      "flex": null,
      "flex_flow": null,
      "grid_area": null,
      "grid_auto_columns": null,
      "grid_auto_flow": null,
      "grid_auto_rows": null,
      "grid_column": null,
      "grid_gap": null,
      "grid_row": null,
      "grid_template_areas": null,
      "grid_template_columns": null,
      "grid_template_rows": null,
      "height": null,
      "justify_content": null,
      "justify_items": null,
      "left": null,
      "margin": null,
      "max_height": null,
      "max_width": null,
      "min_height": null,
      "min_width": null,
      "object_fit": null,
      "object_position": null,
      "order": null,
      "overflow": null,
      "overflow_x": null,
      "overflow_y": null,
      "padding": null,
      "right": null,
      "top": null,
      "visibility": null,
      "width": null
     }
    },
    "259ad97ccefc46c0aea1fba58f7a2351": {
     "model_module": "@jupyter-widgets/base",
     "model_module_version": "1.2.0",
     "model_name": "LayoutModel",
     "state": {
      "_model_module": "@jupyter-widgets/base",
      "_model_module_version": "1.2.0",
      "_model_name": "LayoutModel",
      "_view_count": null,
      "_view_module": "@jupyter-widgets/base",
      "_view_module_version": "1.2.0",
      "_view_name": "LayoutView",
      "align_content": null,
      "align_items": null,
      "align_self": null,
      "border": null,
      "bottom": null,
      "display": null,
      "flex": null,
      "flex_flow": null,
      "grid_area": null,
      "grid_auto_columns": null,
      "grid_auto_flow": null,
      "grid_auto_rows": null,
      "grid_column": null,
      "grid_gap": null,
      "grid_row": null,
      "grid_template_areas": null,
      "grid_template_columns": null,
      "grid_template_rows": null,
      "height": null,
      "justify_content": null,
      "justify_items": null,
      "left": null,
      "margin": null,
      "max_height": null,
      "max_width": null,
      "min_height": null,
      "min_width": null,
      "object_fit": null,
      "object_position": null,
      "order": null,
      "overflow": null,
      "overflow_x": null,
      "overflow_y": null,
      "padding": null,
      "right": null,
      "top": null,
      "visibility": null,
      "width": null
     }
    },
    "3f05ebdb19144b489db287e0ab0fa4d3": {
     "model_module": "@jupyter-widgets/controls",
     "model_module_version": "1.5.0",
     "model_name": "HBoxModel",
     "state": {
      "_dom_classes": [],
      "_model_module": "@jupyter-widgets/controls",
      "_model_module_version": "1.5.0",
      "_model_name": "HBoxModel",
      "_view_count": null,
      "_view_module": "@jupyter-widgets/controls",
      "_view_module_version": "1.5.0",
      "_view_name": "HBoxView",
      "box_style": "",
      "children": [
       "IPY_MODEL_d2398c9ce9d74ebaa73c54be8bf363ff",
       "IPY_MODEL_5df566c367b64dd59db88ea3ff69dd15",
       "IPY_MODEL_0d96877d9f474c09a5ab0e110f1c5297"
      ],
      "layout": "IPY_MODEL_211e8e0b8fc045d691b0bf0b7d898967"
     }
    },
    "448e2360abea4099b64ac290f01076d4": {
     "model_module": "@jupyter-widgets/controls",
     "model_module_version": "1.5.0",
     "model_name": "DescriptionStyleModel",
     "state": {
      "_model_module": "@jupyter-widgets/controls",
      "_model_module_version": "1.5.0",
      "_model_name": "DescriptionStyleModel",
      "_view_count": null,
      "_view_module": "@jupyter-widgets/base",
      "_view_module_version": "1.2.0",
      "_view_name": "StyleView",
      "description_width": ""
     }
    },
    "4c9dffab33e74db9837d62df1dba81e0": {
     "model_module": "@jupyter-widgets/controls",
     "model_module_version": "1.5.0",
     "model_name": "HTMLModel",
     "state": {
      "_dom_classes": [],
      "_model_module": "@jupyter-widgets/controls",
      "_model_module_version": "1.5.0",
      "_model_name": "HTMLModel",
      "_view_count": null,
      "_view_module": "@jupyter-widgets/controls",
      "_view_module_version": "1.5.0",
      "_view_name": "HTMLView",
      "description": "",
      "description_tooltip": null,
      "layout": "IPY_MODEL_20b7961bb099490c93f04181a1c1270a",
      "placeholder": "​",
      "style": "IPY_MODEL_bc4c58344bf849b89ef8c8aacbba984e",
      "value": " 25000/25000 [00:20&lt;00:00, 1263.31 examples/s]"
     }
    },
    "5bd6750a818e4ff28ff524c58f60b13c": {
     "model_module": "@jupyter-widgets/base",
     "model_module_version": "1.2.0",
     "model_name": "LayoutModel",
     "state": {
      "_model_module": "@jupyter-widgets/base",
      "_model_module_version": "1.2.0",
      "_model_name": "LayoutModel",
      "_view_count": null,
      "_view_module": "@jupyter-widgets/base",
      "_view_module_version": "1.2.0",
      "_view_name": "LayoutView",
      "align_content": null,
      "align_items": null,
      "align_self": null,
      "border": null,
      "bottom": null,
      "display": null,
      "flex": null,
      "flex_flow": null,
      "grid_area": null,
      "grid_auto_columns": null,
      "grid_auto_flow": null,
      "grid_auto_rows": null,
      "grid_column": null,
      "grid_gap": null,
      "grid_row": null,
      "grid_template_areas": null,
      "grid_template_columns": null,
      "grid_template_rows": null,
      "height": null,
      "justify_content": null,
      "justify_items": null,
      "left": null,
      "margin": null,
      "max_height": null,
      "max_width": null,
      "min_height": null,
      "min_width": null,
      "object_fit": null,
      "object_position": null,
      "order": null,
      "overflow": null,
      "overflow_x": null,
      "overflow_y": null,
      "padding": null,
      "right": null,
      "top": null,
      "visibility": null,
      "width": null
     }
    },
    "5df566c367b64dd59db88ea3ff69dd15": {
     "model_module": "@jupyter-widgets/controls",
     "model_module_version": "1.5.0",
     "model_name": "FloatProgressModel",
     "state": {
      "_dom_classes": [],
      "_model_module": "@jupyter-widgets/controls",
      "_model_module_version": "1.5.0",
      "_model_name": "FloatProgressModel",
      "_view_count": null,
      "_view_module": "@jupyter-widgets/controls",
      "_view_module_version": "1.5.0",
      "_view_name": "ProgressView",
      "bar_style": "success",
      "description": "",
      "description_tooltip": null,
      "layout": "IPY_MODEL_d98efe8d1f7a451888ad690163b89d26",
      "max": 25000,
      "min": 0,
      "orientation": "horizontal",
      "style": "IPY_MODEL_125e9ebd5de64b588d55cf0ed9d0973e",
      "value": 25000
     }
    },
    "6bc77d267b28418c98952c7ddec6ac33": {
     "model_module": "@jupyter-widgets/controls",
     "model_module_version": "1.5.0",
     "model_name": "DescriptionStyleModel",
     "state": {
      "_model_module": "@jupyter-widgets/controls",
      "_model_module_version": "1.5.0",
      "_model_name": "DescriptionStyleModel",
      "_view_count": null,
      "_view_module": "@jupyter-widgets/base",
      "_view_module_version": "1.2.0",
      "_view_name": "StyleView",
      "description_width": ""
     }
    },
    "81e6c2315e9343de819e108688761a4e": {
     "model_module": "@jupyter-widgets/controls",
     "model_module_version": "1.5.0",
     "model_name": "HBoxModel",
     "state": {
      "_dom_classes": [],
      "_model_module": "@jupyter-widgets/controls",
      "_model_module_version": "1.5.0",
      "_model_name": "HBoxModel",
      "_view_count": null,
      "_view_module": "@jupyter-widgets/controls",
      "_view_module_version": "1.5.0",
      "_view_name": "HBoxView",
      "box_style": "",
      "children": [
       "IPY_MODEL_fbb9ca382efb4fe08ed97f014ce4db12",
       "IPY_MODEL_0045f13169dd4b6f8a343f201490f477",
       "IPY_MODEL_4c9dffab33e74db9837d62df1dba81e0"
      ],
      "layout": "IPY_MODEL_f1267a89200f47f29ee0a4066705dd32"
     }
    },
    "919e46b2d629457d8065d7e13b7d4563": {
     "model_module": "@jupyter-widgets/controls",
     "model_module_version": "1.5.0",
     "model_name": "DescriptionStyleModel",
     "state": {
      "_model_module": "@jupyter-widgets/controls",
      "_model_module_version": "1.5.0",
      "_model_name": "DescriptionStyleModel",
      "_view_count": null,
      "_view_module": "@jupyter-widgets/base",
      "_view_module_version": "1.2.0",
      "_view_name": "StyleView",
      "description_width": ""
     }
    },
    "9441a668da3f4ca78f50cea68ee537c4": {
     "model_module": "@jupyter-widgets/base",
     "model_module_version": "1.2.0",
     "model_name": "LayoutModel",
     "state": {
      "_model_module": "@jupyter-widgets/base",
      "_model_module_version": "1.2.0",
      "_model_name": "LayoutModel",
      "_view_count": null,
      "_view_module": "@jupyter-widgets/base",
      "_view_module_version": "1.2.0",
      "_view_name": "LayoutView",
      "align_content": null,
      "align_items": null,
      "align_self": null,
      "border": null,
      "bottom": null,
      "display": null,
      "flex": null,
      "flex_flow": null,
      "grid_area": null,
      "grid_auto_columns": null,
      "grid_auto_flow": null,
      "grid_auto_rows": null,
      "grid_column": null,
      "grid_gap": null,
      "grid_row": null,
      "grid_template_areas": null,
      "grid_template_columns": null,
      "grid_template_rows": null,
      "height": null,
      "justify_content": null,
      "justify_items": null,
      "left": null,
      "margin": null,
      "max_height": null,
      "max_width": null,
      "min_height": null,
      "min_width": null,
      "object_fit": null,
      "object_position": null,
      "order": null,
      "overflow": null,
      "overflow_x": null,
      "overflow_y": null,
      "padding": null,
      "right": null,
      "top": null,
      "visibility": null,
      "width": null
     }
    },
    "bc4c58344bf849b89ef8c8aacbba984e": {
     "model_module": "@jupyter-widgets/controls",
     "model_module_version": "1.5.0",
     "model_name": "DescriptionStyleModel",
     "state": {
      "_model_module": "@jupyter-widgets/controls",
      "_model_module_version": "1.5.0",
      "_model_name": "DescriptionStyleModel",
      "_view_count": null,
      "_view_module": "@jupyter-widgets/base",
      "_view_module_version": "1.2.0",
      "_view_name": "StyleView",
      "description_width": ""
     }
    },
    "d2398c9ce9d74ebaa73c54be8bf363ff": {
     "model_module": "@jupyter-widgets/controls",
     "model_module_version": "1.5.0",
     "model_name": "HTMLModel",
     "state": {
      "_dom_classes": [],
      "_model_module": "@jupyter-widgets/controls",
      "_model_module_version": "1.5.0",
      "_model_name": "HTMLModel",
      "_view_count": null,
      "_view_module": "@jupyter-widgets/controls",
      "_view_module_version": "1.5.0",
      "_view_name": "HTMLView",
      "description": "",
      "description_tooltip": null,
      "layout": "IPY_MODEL_0af8c7005a594e52ba543a2f94a141f3",
      "placeholder": "​",
      "style": "IPY_MODEL_448e2360abea4099b64ac290f01076d4",
      "value": "Map: 100%"
     }
    },
    "d98efe8d1f7a451888ad690163b89d26": {
     "model_module": "@jupyter-widgets/base",
     "model_module_version": "1.2.0",
     "model_name": "LayoutModel",
     "state": {
      "_model_module": "@jupyter-widgets/base",
      "_model_module_version": "1.2.0",
      "_model_name": "LayoutModel",
      "_view_count": null,
      "_view_module": "@jupyter-widgets/base",
      "_view_module_version": "1.2.0",
      "_view_name": "LayoutView",
      "align_content": null,
      "align_items": null,
      "align_self": null,
      "border": null,
      "bottom": null,
      "display": null,
      "flex": null,
      "flex_flow": null,
      "grid_area": null,
      "grid_auto_columns": null,
      "grid_auto_flow": null,
      "grid_auto_rows": null,
      "grid_column": null,
      "grid_gap": null,
      "grid_row": null,
      "grid_template_areas": null,
      "grid_template_columns": null,
      "grid_template_rows": null,
      "height": null,
      "justify_content": null,
      "justify_items": null,
      "left": null,
      "margin": null,
      "max_height": null,
      "max_width": null,
      "min_height": null,
      "min_width": null,
      "object_fit": null,
      "object_position": null,
      "order": null,
      "overflow": null,
      "overflow_x": null,
      "overflow_y": null,
      "padding": null,
      "right": null,
      "top": null,
      "visibility": null,
      "width": null
     }
    },
    "f1267a89200f47f29ee0a4066705dd32": {
     "model_module": "@jupyter-widgets/base",
     "model_module_version": "1.2.0",
     "model_name": "LayoutModel",
     "state": {
      "_model_module": "@jupyter-widgets/base",
      "_model_module_version": "1.2.0",
      "_model_name": "LayoutModel",
      "_view_count": null,
      "_view_module": "@jupyter-widgets/base",
      "_view_module_version": "1.2.0",
      "_view_name": "LayoutView",
      "align_content": null,
      "align_items": null,
      "align_self": null,
      "border": null,
      "bottom": null,
      "display": null,
      "flex": null,
      "flex_flow": null,
      "grid_area": null,
      "grid_auto_columns": null,
      "grid_auto_flow": null,
      "grid_auto_rows": null,
      "grid_column": null,
      "grid_gap": null,
      "grid_row": null,
      "grid_template_areas": null,
      "grid_template_columns": null,
      "grid_template_rows": null,
      "height": null,
      "justify_content": null,
      "justify_items": null,
      "left": null,
      "margin": null,
      "max_height": null,
      "max_width": null,
      "min_height": null,
      "min_width": null,
      "object_fit": null,
      "object_position": null,
      "order": null,
      "overflow": null,
      "overflow_x": null,
      "overflow_y": null,
      "padding": null,
      "right": null,
      "top": null,
      "visibility": null,
      "width": null
     }
    },
    "fbb9ca382efb4fe08ed97f014ce4db12": {
     "model_module": "@jupyter-widgets/controls",
     "model_module_version": "1.5.0",
     "model_name": "HTMLModel",
     "state": {
      "_dom_classes": [],
      "_model_module": "@jupyter-widgets/controls",
      "_model_module_version": "1.5.0",
      "_model_name": "HTMLModel",
      "_view_count": null,
      "_view_module": "@jupyter-widgets/controls",
      "_view_module_version": "1.5.0",
      "_view_name": "HTMLView",
      "description": "",
      "description_tooltip": null,
      "layout": "IPY_MODEL_5bd6750a818e4ff28ff524c58f60b13c",
      "placeholder": "​",
      "style": "IPY_MODEL_6bc77d267b28418c98952c7ddec6ac33",
      "value": "Map: 100%"
     }
    }
   }
  }
 },
 "nbformat": 4,
 "nbformat_minor": 0
}
